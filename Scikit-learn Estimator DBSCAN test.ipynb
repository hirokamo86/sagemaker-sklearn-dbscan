{
 "cells": [
  {
   "cell_type": "markdown",
   "metadata": {},
   "source": [
    "# DBScan training with Sagemaker Scikit-learn\n",
    "Run through a dbscan sample scenario accodring to the page\n",
    "\n",
    "https://scikit-learn.org/stable/auto_examples/cluster/plot_dbscan.html"
   ]
  },
  {
   "cell_type": "code",
   "execution_count": 1,
   "metadata": {},
   "outputs": [],
   "source": [
    "# S3 prefix\n",
    "prefix = 'Scikit-dbscan-test'\n",
    "\n",
    "import sagemaker\n",
    "from sagemaker import get_execution_role\n",
    "\n",
    "sagemaker_session = sagemaker.Session()\n",
    "\n",
    "# Get a SageMaker-compatible role used by this Notebook Instance.\n",
    "role = get_execution_role()"
   ]
  },
  {
   "cell_type": "markdown",
   "metadata": {},
   "source": [
    "## Upload the data for training <a class=\"anchor\" id=\"upload_data\"></a>\n"
   ]
  },
  {
   "cell_type": "code",
   "execution_count": 14,
   "metadata": {},
   "outputs": [],
   "source": [
    "import numpy as np\n",
    "import os\n",
    "from sklearn.datasets.samples_generator import make_blobs\n",
    "from sklearn.preprocessing import StandardScaler\n",
    "\n",
    "# #############################################################################\n",
    "# Generate sample data\n",
    "centers = [[1, 1], [-1, -1], [1, -1]]\n",
    "X, labels_true = make_blobs(n_samples=750, centers=centers, cluster_std=0.4,\n",
    "                            random_state=0)\n",
    "\n",
    "X = StandardScaler().fit_transform(X)\n",
    "\n",
    "# #############################################################################\n",
    "\n",
    "# Create directory and write csv\n",
    "os.makedirs('./data', exist_ok=True)\n",
    "np.savetxt('./data/train_data.csv', X, delimiter=',')\n",
    "np.savetxt('./data/true_data.csv', labels_true, delimiter=',')"
   ]
  },
  {
   "cell_type": "markdown",
   "metadata": {},
   "source": [
    "Once we have the data locally, we can use use the tools provided by the SageMaker Python SDK to upload the data to a default bucket. "
   ]
  },
  {
   "cell_type": "code",
   "execution_count": 15,
   "metadata": {},
   "outputs": [],
   "source": [
    "WORK_DIRECTORY = 'data'\n",
    "\n",
    "train_input = sagemaker_session.upload_data(WORK_DIRECTORY, key_prefix=\"{}/{}\".format(prefix, WORK_DIRECTORY) )"
   ]
  },
  {
   "cell_type": "markdown",
   "metadata": {},
   "source": [
    "## Create a Scikit-learn script to train with <a class=\"anchor\" id=\"create_sklearn_script\"></a>\n",
    "SageMaker can now run a scikit-learn script using the `SKLearn` estimator. When executed on SageMaker a number of helpful environment variables are available to access properties of the training environment, such as:\n",
    "\n",
    "* `SM_MODEL_DIR`: A string representing the path to the directory to write model artifacts to. Any artifacts saved in this folder are uploaded to S3 for model hosting after the training job completes.\n",
    "* `SM_OUTPUT_DIR`: A string representing the filesystem path to write output artifacts to. Output artifacts may include checkpoints, graphs, and other files to save, not including model artifacts. These artifacts are compressed and uploaded to S3 to the same S3 prefix as the model artifacts.\n",
    "\n",
    "Supposing two input channels, 'train' and 'test', were used in the call to the `SKLearn` estimator's `fit()` method, the following environment variables will be set, following the format `SM_CHANNEL_[channel_name]`:\n",
    "\n",
    "* `SM_CHANNEL_TRAIN`: A string representing the path to the directory containing data in the 'train' channel\n",
    "* `SM_CHANNEL_TEST`: Same as above, but for the 'test' channel.\n",
    "\n",
    "A typical training script loads data from the input channels, configures training with hyperparameters, trains a model, and saves a model to model_dir so that it can be hosted later. Hyperparameters are passed to your script as arguments and can be retrieved with an `argparse.ArgumentParser` instance. "
   ]
  },
  {
   "cell_type": "markdown",
   "metadata": {},
   "source": [
    "Because the Scikit-learn container imports your training script, you should always put your training code in a main guard `(if __name__=='__main__':)` so that the container does not inadvertently run your training code at the wrong point in execution.\n",
    "\n",
    "For more information about training environment variables, please visit https://github.com/aws/sagemaker-containers."
   ]
  },
  {
   "cell_type": "markdown",
   "metadata": {},
   "source": [
    "## Create SageMaker Scikit Estimator <a class=\"anchor\" id=\"create_sklearn_estimator\"></a>\n",
    "\n",
    "To run our Scikit-learn training script on SageMaker, we construct a `sagemaker.sklearn.estimator.sklearn` estimator, which accepts several constructor arguments:\n",
    "\n",
    "* __entry_point__: The path to the Python script SageMaker runs for training and prediction.\n",
    "* __role__: Role ARN\n",
    "* __train_instance_type__ *(optional)*: The type of SageMaker instances for training. __Note__: Because Scikit-learn does not natively support GPU training, Sagemaker Scikit-learn does not currently support training on GPU instance types.\n",
    "* __sagemaker_session__ *(optional)*: The session used to train on Sagemaker.\n",
    "* __hyperparameters__ *(optional)*: A dictionary passed to the train function as hyperparameters.\n",
    "\n",
    "To see the code for the SKLearn Estimator, see here: https://github.com/aws/sagemaker-python-sdk/tree/master/src/sagemaker/sklearn"
   ]
  },
  {
   "cell_type": "code",
   "execution_count": 16,
   "metadata": {},
   "outputs": [],
   "source": [
    "from sagemaker.sklearn.estimator import SKLearn\n",
    "\n",
    "script_path = 'dbscan_test.py'\n",
    "\n",
    "sklearn = SKLearn(\n",
    "    entry_point=script_path,\n",
    "    train_instance_type=\"ml.c4.xlarge\",\n",
    "    role=role,\n",
    "    sagemaker_session=sagemaker_session,\n",
    "    hyperparameters={'eps': 0.3, 'min_samples': 10})"
   ]
  },
  {
   "cell_type": "code",
   "execution_count": 17,
   "metadata": {},
   "outputs": [
    {
     "name": "stdout",
     "output_type": "stream",
     "text": [
      "from __future__ import print_function\r\n",
      "\r\n",
      "import argparse\r\n",
      "import os\r\n",
      "\r\n",
      "import numpy as np\r\n",
      "\r\n",
      "from sklearn.cluster import DBSCAN\r\n",
      "from sklearn import metrics\r\n",
      "from sklearn.externals import joblib\r\n",
      "from sklearn.datasets.samples_generator import make_blobs\r\n",
      "\r\n",
      "if __name__ == '__main__':\r\n",
      "    parser = argparse.ArgumentParser()\r\n",
      "\r\n",
      "    # Hyperparameters are described here. In this simple example we are just including one hyperparameter.\r\n",
      "    parser.add_argument('--eps', type=float, default=0.3)\r\n",
      "    parser.add_argument('--min_samples', type=int, default=10)\r\n",
      "\r\n",
      "    # Sagemaker specific arguments. Defaults are set in the environment variables.\r\n",
      "    parser.add_argument('--output-data-dir', type=str, default=os.environ['SM_OUTPUT_DATA_DIR'])\r\n",
      "    parser.add_argument('--model-dir', type=str, default=os.environ['SM_MODEL_DIR'])\r\n",
      "    parser.add_argument('--train', type=str, default=os.environ['SM_CHANNEL_TRAIN'])\r\n",
      "\r\n",
      "    args = parser.parse_args()\r\n",
      "\r\n",
      "    # Take the file and read it into a numpy array\r\n",
      "    input_file = os.path.join(args.train, 'train_data.csv')\r\n",
      "    if len(input_file) == 0:\r\n",
      "        raise ValueError(('There are no files in {}.\\n' +\r\n",
      "                          'This usually indicates that the channel ({}) was incorrectly specified,\\n' +\r\n",
      "                          'the data specification in S3 was incorrectly specified or the role specified\\n' +\r\n",
      "                          'does not have permission to access the data.').format(args.train, \"train\"))\r\n",
      "    train_data = np.genfromtxt(input_file, delimiter=',')\r\n",
      "\r\n",
      "    input_file = os.path.join(args.train, 'true_data.csv')\r\n",
      "    if len(input_file) == 0:\r\n",
      "        raise ValueError(('There are no files in {}.\\n' +\r\n",
      "                          'This usually indicates that the channel ({}) was incorrectly specified,\\n' +\r\n",
      "                          'the data specification in S3 was incorrectly specified or the role specified\\n' +\r\n",
      "                          'does not have permission to access the data.').format(args.train, \"train\"))\r\n",
      "    labels_true = np.genfromtxt(input_file, delimiter=',')\r\n",
      "\r\n",
      "    # Note that you can add as many as your training my require in the ArgumentParser above.\r\n",
      "    eps = args.eps\r\n",
      "    min_samples = args.min_samples\r\n",
      "\r\n",
      "    # Now use scikit-learn's dbscan classifier to train the model.\r\n",
      "    db = DBSCAN(eps=eps, min_samples=min_samples).fit(train_data)\r\n",
      "    core_samples_mask = np.zeros_like(db.labels_, dtype=bool)\r\n",
      "    core_samples_mask[db.core_sample_indices_] = True\r\n",
      "    labels = db.labels_\r\n",
      "\r\n",
      "    # Number of clusters in labels, ignoring noise if present.\r\n",
      "    n_clusters_ = len(set(labels)) - (1 if -1 in labels else 0)\r\n",
      "    n_noise_ = list(labels).count(-1)\r\n",
      "\r\n",
      "    print('Estimated number of clusters: %d' % n_clusters_)\r\n",
      "    print('Estimated number of noise points: %d' % n_noise_)\r\n",
      "    print(\"Homogeneity: %0.3f\" % metrics.homogeneity_score(labels_true, labels))\r\n",
      "    print(\"Completeness: %0.3f\" % metrics.completeness_score(labels_true, labels))\r\n",
      "    print(\"V-measure: %0.3f\" % metrics.v_measure_score(labels_true, labels))\r\n",
      "    print(\"Adjusted Rand Index: %0.3f\" % metrics.adjusted_rand_score(labels_true, labels))\r\n",
      "    print(\"Adjusted Mutual Information: %0.3f\" % metrics.adjusted_mutual_info_score(labels_true, labels))\r\n",
      "    print(\"Silhouette Coefficient: %0.3f\" % metrics.silhouette_score(train_data, labels))\r\n",
      "\r\n",
      "    # save the coefficients\r\n",
      "    joblib.dump(db, os.path.join(args.model_dir, \"model.joblib\"))\r\n",
      "\r\n",
      "def model_fn(model_dir):\r\n",
      "    \"\"\"Deserialized and return fitted model\r\n",
      "    \r\n",
      "    Note that this should have the same name as the serialized model in the main method\r\n",
      "    \"\"\"\r\n",
      "    db = joblib.load(os.path.join(model_dir, \"model.joblib\"))\r\n",
      "    return db\r\n",
      "\r\n"
     ]
    }
   ],
   "source": [
    "!cat dbscan_test.py"
   ]
  },
  {
   "cell_type": "markdown",
   "metadata": {},
   "source": [
    "## Train SKLearn Estimator  <a class=\"anchor\" id=\"train_sklearn\"></a>\n",
    "Training is very simple, just call `fit` on the Estimator! This will start a SageMaker Training job that will download the data for us, invoke our scikit-learn code (in the provided script file), and save any model artifacts that the script creates."
   ]
  },
  {
   "cell_type": "code",
   "execution_count": 18,
   "metadata": {},
   "outputs": [
    {
     "name": "stderr",
     "output_type": "stream",
     "text": [
      "INFO:sagemaker:Creating training-job with name: sagemaker-scikit-learn-2019-03-09-14-19-32-113\n"
     ]
    },
    {
     "name": "stdout",
     "output_type": "stream",
     "text": [
      "2019-03-09 14:19:32 Starting - Starting the training job...\n",
      "2019-03-09 14:19:36 Starting - Launching requested ML instances......\n",
      "2019-03-09 14:20:42 Starting - Preparing the instances for training......\n",
      "2019-03-09 14:22:00 Downloading - Downloading input data\n",
      "2019-03-09 14:22:00 Training - Training image download completed. Training in progress.\n",
      "2019-03-09 14:22:00 Uploading - Uploading generated training model\n",
      "2019-03-09 14:22:00 Completed - Training job completed\n",
      "\n",
      "\u001b[31m2019-03-09 14:21:48,875 sagemaker-containers INFO     Imported framework sagemaker_sklearn_container.training\u001b[0m\n",
      "\u001b[31m2019-03-09 14:21:48,878 sagemaker-containers INFO     No GPUs detected (normal if no gpus installed)\u001b[0m\n",
      "\u001b[31m2019-03-09 14:21:48,893 sagemaker_sklearn_container.training INFO     Invoking user training script.\u001b[0m\n",
      "\u001b[31m2019-03-09 14:21:49,212 sagemaker-containers INFO     Module dbscan_test does not provide a setup.py. \u001b[0m\n",
      "\u001b[31mGenerating setup.py\u001b[0m\n",
      "\u001b[31m2019-03-09 14:21:49,212 sagemaker-containers INFO     Generating setup.cfg\u001b[0m\n",
      "\u001b[31m2019-03-09 14:21:49,213 sagemaker-containers INFO     Generating MANIFEST.in\u001b[0m\n",
      "\u001b[31m2019-03-09 14:21:49,213 sagemaker-containers INFO     Installing module with the following command:\u001b[0m\n",
      "\u001b[31m/usr/bin/python3 -m pip install -U . \u001b[0m\n",
      "\u001b[31mProcessing /opt/ml/code\u001b[0m\n",
      "\u001b[31mBuilding wheels for collected packages: dbscan-test\n",
      "  Running setup.py bdist_wheel for dbscan-test: started\n",
      "  Running setup.py bdist_wheel for dbscan-test: finished with status 'done'\n",
      "  Stored in directory: /tmp/pip-ephem-wheel-cache-jekovdns/wheels/35/24/16/37574d11bf9bde50616c67372a334f94fa8356bc7164af8ca3\u001b[0m\n",
      "\u001b[31mSuccessfully built dbscan-test\u001b[0m\n",
      "\u001b[31mInstalling collected packages: dbscan-test\u001b[0m\n",
      "\u001b[31mSuccessfully installed dbscan-test-1.0.0\u001b[0m\n",
      "\u001b[31mYou are using pip version 18.1, however version 19.0.3 is available.\u001b[0m\n",
      "\u001b[31mYou should consider upgrading via the 'pip install --upgrade pip' command.\u001b[0m\n",
      "\u001b[31m2019-03-09 14:21:50,443 sagemaker-containers INFO     No GPUs detected (normal if no gpus installed)\u001b[0m\n",
      "\u001b[31m2019-03-09 14:21:50,457 sagemaker-containers INFO     Invoking user script\n",
      "\u001b[0m\n",
      "\u001b[31mTraining Env:\n",
      "\u001b[0m\n",
      "\u001b[31m{\n",
      "    \"hosts\": [\n",
      "        \"algo-1\"\n",
      "    ],\n",
      "    \"input_data_config\": {\n",
      "        \"train\": {\n",
      "            \"TrainingInputMode\": \"File\",\n",
      "            \"RecordWrapperType\": \"None\",\n",
      "            \"S3DistributionType\": \"FullyReplicated\"\n",
      "        }\n",
      "    },\n",
      "    \"output_data_dir\": \"/opt/ml/output/data\",\n",
      "    \"additional_framework_parameters\": {},\n",
      "    \"hyperparameters\": {\n",
      "        \"min_samples\": 10,\n",
      "        \"eps\": 0.3\n",
      "    },\n",
      "    \"channel_input_dirs\": {\n",
      "        \"train\": \"/opt/ml/input/data/train\"\n",
      "    },\n",
      "    \"current_host\": \"algo-1\",\n",
      "    \"user_entry_point\": \"dbscan_test.py\",\n",
      "    \"module_name\": \"dbscan_test\",\n",
      "    \"num_cpus\": 4,\n",
      "    \"num_gpus\": 0,\n",
      "    \"framework_module\": \"sagemaker_sklearn_container.training:main\",\n",
      "    \"output_intermediate_dir\": \"/opt/ml/output/intermediate\",\n",
      "    \"network_interface_name\": \"ethwe\",\n",
      "    \"input_config_dir\": \"/opt/ml/input/config\",\n",
      "    \"input_dir\": \"/opt/ml/input\",\n",
      "    \"model_dir\": \"/opt/ml/model\",\n",
      "    \"module_dir\": \"s3://sagemaker-ap-northeast-1-352224188344/sagemaker-scikit-learn-2019-03-09-14-19-32-113/source/sourcedir.tar.gz\",\n",
      "    \"resource_config\": {\n",
      "        \"network_interface_name\": \"ethwe\",\n",
      "        \"current_host\": \"algo-1\",\n",
      "        \"hosts\": [\n",
      "            \"algo-1\"\n",
      "        ]\n",
      "    },\n",
      "    \"log_level\": 20,\n",
      "    \"output_dir\": \"/opt/ml/output\",\n",
      "    \"job_name\": \"sagemaker-scikit-learn-2019-03-09-14-19-32-113\"\u001b[0m\n",
      "\u001b[31m}\n",
      "\u001b[0m\n",
      "\u001b[31mEnvironment variables:\n",
      "\u001b[0m\n",
      "\u001b[31mPYTHONPATH=/usr/local/bin:/usr/lib/python35.zip:/usr/lib/python3.5:/usr/lib/python3.5/plat-x86_64-linux-gnu:/usr/lib/python3.5/lib-dynload:/usr/local/lib/python3.5/dist-packages:/usr/lib/python3/dist-packages\u001b[0m\n",
      "\u001b[31mSM_RESOURCE_CONFIG={\"current_host\":\"algo-1\",\"hosts\":[\"algo-1\"],\"network_interface_name\":\"ethwe\"}\u001b[0m\n",
      "\u001b[31mSM_HP_EPS=0.3\u001b[0m\n",
      "\u001b[31mSM_HPS={\"eps\":0.3,\"min_samples\":10}\u001b[0m\n",
      "\u001b[31mSM_LOG_LEVEL=20\u001b[0m\n",
      "\u001b[31mSM_NUM_CPUS=4\u001b[0m\n",
      "\u001b[31mSM_MODULE_NAME=dbscan_test\u001b[0m\n",
      "\u001b[31mSM_TRAINING_ENV={\"additional_framework_parameters\":{},\"channel_input_dirs\":{\"train\":\"/opt/ml/input/data/train\"},\"current_host\":\"algo-1\",\"framework_module\":\"sagemaker_sklearn_container.training:main\",\"hosts\":[\"algo-1\"],\"hyperparameters\":{\"eps\":0.3,\"min_samples\":10},\"input_config_dir\":\"/opt/ml/input/config\",\"input_data_config\":{\"train\":{\"RecordWrapperType\":\"None\",\"S3DistributionType\":\"FullyReplicated\",\"TrainingInputMode\":\"File\"}},\"input_dir\":\"/opt/ml/input\",\"job_name\":\"sagemaker-scikit-learn-2019-03-09-14-19-32-113\",\"log_level\":20,\"model_dir\":\"/opt/ml/model\",\"module_dir\":\"s3://sagemaker-ap-northeast-1-352224188344/sagemaker-scikit-learn-2019-03-09-14-19-32-113/source/sourcedir.tar.gz\",\"module_name\":\"dbscan_test\",\"network_interface_name\":\"ethwe\",\"num_cpus\":4,\"num_gpus\":0,\"output_data_dir\":\"/opt/ml/output/data\",\"output_dir\":\"/opt/ml/output\",\"output_intermediate_dir\":\"/opt/ml/output/intermediate\",\"resource_config\":{\"current_host\":\"algo-1\",\"hosts\":[\"algo-1\"],\"network_interface_name\":\"ethwe\"},\"user_entry_point\":\"dbscan_test.py\"}\u001b[0m\n",
      "\u001b[31mSM_INPUT_DATA_CONFIG={\"train\":{\"RecordWrapperType\":\"None\",\"S3DistributionType\":\"FullyReplicated\",\"TrainingInputMode\":\"File\"}}\u001b[0m\n",
      "\u001b[31mSM_FRAMEWORK_PARAMS={}\u001b[0m\n",
      "\u001b[31mSM_CHANNELS=[\"train\"]\u001b[0m\n",
      "\u001b[31mSM_OUTPUT_INTERMEDIATE_DIR=/opt/ml/output/intermediate\u001b[0m\n",
      "\u001b[31mSM_OUTPUT_DIR=/opt/ml/output\u001b[0m\n",
      "\u001b[31mSM_NETWORK_INTERFACE_NAME=ethwe\u001b[0m\n",
      "\u001b[31mSM_HOSTS=[\"algo-1\"]\u001b[0m\n",
      "\u001b[31mSM_INPUT_CONFIG_DIR=/opt/ml/input/config\u001b[0m\n",
      "\u001b[31mSM_FRAMEWORK_MODULE=sagemaker_sklearn_container.training:main\u001b[0m\n",
      "\u001b[31mSM_HP_MIN_SAMPLES=10\u001b[0m\n",
      "\u001b[31mSM_USER_ENTRY_POINT=dbscan_test.py\u001b[0m\n",
      "\u001b[31mSM_MODULE_DIR=s3://sagemaker-ap-northeast-1-352224188344/sagemaker-scikit-learn-2019-03-09-14-19-32-113/source/sourcedir.tar.gz\u001b[0m\n",
      "\u001b[31mSM_NUM_GPUS=0\u001b[0m\n",
      "\u001b[31mSM_CURRENT_HOST=algo-1\u001b[0m\n",
      "\u001b[31mSM_INPUT_DIR=/opt/ml/input\u001b[0m\n",
      "\u001b[31mSM_CHANNEL_TRAIN=/opt/ml/input/data/train\u001b[0m\n",
      "\u001b[31mSM_OUTPUT_DATA_DIR=/opt/ml/output/data\u001b[0m\n",
      "\u001b[31mSM_USER_ARGS=[\"--eps\",\"0.3\",\"--min_samples\",\"10\"]\u001b[0m\n",
      "\u001b[31mSM_MODEL_DIR=/opt/ml/model\n",
      "\u001b[0m\n",
      "\u001b[31mInvoking script with the following command:\n",
      "\u001b[0m\n",
      "\u001b[31m/usr/bin/python3 -m dbscan_test --eps 0.3 --min_samples 10\n",
      "\n",
      "\u001b[0m\n",
      "\u001b[31mEstimated number of clusters: 3\u001b[0m\n",
      "\u001b[31mEstimated number of noise points: 18\u001b[0m\n",
      "\u001b[31mHomogeneity: 0.953\u001b[0m\n",
      "\u001b[31mCompleteness: 0.883\u001b[0m\n",
      "\u001b[31mV-measure: 0.917\u001b[0m\n",
      "\u001b[31mAdjusted Rand Index: 0.952\u001b[0m\n",
      "\u001b[31m/usr/local/lib/python3.5/dist-packages/sklearn/metrics/cluster/supervised.py:732: FutureWarning: The behavior of AMI will change in version 0.22. To match the behavior of 'v_measure_score', AMI will use average_method='arithmetic' by default.\n",
      "  FutureWarning)\u001b[0m\n",
      "\u001b[31mAdjusted Mutual Information: 0.883\u001b[0m\n",
      "\u001b[31mSilhouette Coefficient: 0.626\u001b[0m\n",
      "\u001b[31m2019-03-09 14:21:51,480 sagemaker-containers INFO     Reporting training SUCCESS\u001b[0m\n",
      "Billable seconds: 23\n"
     ]
    }
   ],
   "source": [
    "sklearn.fit({'train': train_input})"
   ]
  },
  {
   "cell_type": "markdown",
   "metadata": {},
   "source": [
    "## Get the result from S3 and plot it "
   ]
  },
  {
   "cell_type": "code",
   "execution_count": 19,
   "metadata": {},
   "outputs": [
    {
     "name": "stderr",
     "output_type": "stream",
     "text": [
      "/home/ec2-user/anaconda3/envs/python3/lib/python3.6/site-packages/sklearn/base.py:311: UserWarning: Trying to unpickle estimator DBSCAN from version 0.20.0 when using version 0.19.1. This might lead to breaking code or invalid results. Use at your own risk.\n",
      "  UserWarning)\n"
     ]
    },
    {
     "data": {
      "image/png": "[encoded data removed]",
      "text/plain": [
       "<Figure size 432x288 with 1 Axes>"
      ]
     },
     "metadata": {},
     "output_type": "display_data"
    }
   ],
   "source": [
    "import boto3\n",
    "import tarfile\n",
    "from sklearn.externals import joblib\n",
    "\n",
    "s3 = boto3.resource('s3')\n",
    "model_path = sklearn.model_data\n",
    "bucket_name = model_path.split('/')[2]\n",
    "key = model_path.split(bucket_name)[1][1:]\n",
    "s3.Object(bucket_name, key).download_file('model.tar.gz')\n",
    "\n",
    "with tarfile.open('model.tar.gz', 'r:gz') as tf:\n",
    "    tf.extractall()\n",
    "\n",
    "db = joblib.load('model.joblib')\n",
    "core_samples_mask = np.zeros_like(db.labels_, dtype=bool)\n",
    "core_samples_mask[db.core_sample_indices_] = True\n",
    "labels = db.labels_\n",
    "\n",
    "# #############################################################################\n",
    "# Plot result\n",
    "import matplotlib.pyplot as plt\n",
    "\n",
    "# Black removed and is used for noise instead.\n",
    "unique_labels = set(labels)\n",
    "colors = [plt.cm.Spectral(each)\n",
    "          for each in np.linspace(0, 1, len(unique_labels))]\n",
    "for k, col in zip(unique_labels, colors):\n",
    "    if k == -1:\n",
    "        # Black used for noise.\n",
    "        col = [0, 0, 0, 1]\n",
    "\n",
    "    class_member_mask = (labels == k)\n",
    "\n",
    "    xy = X[class_member_mask & core_samples_mask]\n",
    "    plt.plot(xy[:, 0], xy[:, 1], 'o', markerfacecolor=tuple(col),\n",
    "             markeredgecolor='k', markersize=14)\n",
    "\n",
    "    xy = X[class_member_mask & ~core_samples_mask]\n",
    "    plt.plot(xy[:, 0], xy[:, 1], 'o', markerfacecolor=tuple(col),\n",
    "             markeredgecolor='k', markersize=6)\n",
    "\n",
    "plt.show()"
   ]
  },
  {
   "cell_type": "code",
   "execution_count": null,
   "metadata": {},
   "outputs": [],
   "source": []
  }
 ],
 "metadata": {
  "kernelspec": {
   "display_name": "conda_python3",
   "language": "python",
   "name": "conda_python3"
  },
  "language_info": {
   "codemirror_mode": {
    "name": "ipython",
    "version": 3
   },
   "file_extension": ".py",
   "mimetype": "text/x-python",
   "name": "python",
   "nbconvert_exporter": "python",
   "pygments_lexer": "ipython3",
   "version": "3.6.5"
  }
 },
 "nbformat": 4,
 "nbformat_minor": 2
}
